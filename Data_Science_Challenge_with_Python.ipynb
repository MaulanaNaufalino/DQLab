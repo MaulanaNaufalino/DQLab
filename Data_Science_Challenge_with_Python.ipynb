{
  "nbformat": 4,
  "nbformat_minor": 0,
  "metadata": {
    "colab": {
      "name": "Data Science Challenge with Python.ipynb",
      "provenance": [],
      "collapsed_sections": [],
      "toc_visible": true
    },
    "kernelspec": {
      "name": "python3",
      "display_name": "Python 3"
    },
    "language_info": {
      "name": "python"
    }
  },
  "cells": [
    {
      "cell_type": "markdown",
      "metadata": {
        "id": "VruxhLuLIQkl"
      },
      "source": [
        "# **Data Science Challenge with Python**\n",
        "\n",
        "Data Science Challenge with Python merupakan sebuah project tantangan yang terdapat di DQLab. Project ini terbentuk dari kerjasama DQLab dengan CT Corp. Project ini dirancang untuk memperlihatkan kemampuan dalam menerapkan logical thinking melalui bahasa pemrograman Python.\n",
        "\n",
        "Berikut ini merupakan dokumentasi pada challenge Dict data type! dan Jumlah 7 Deret Pertama Fibonacci yang telah saya kerjakan."
      ]
    },
    {
      "cell_type": "markdown",
      "metadata": {
        "id": "Y5j-0b4GH70V"
      },
      "source": [
        "##**Dict data type!**"
      ]
    },
    {
      "cell_type": "code",
      "metadata": {
        "colab": {
          "base_uri": "https://localhost:8080/"
        },
        "id": "7TFSi3KgIGS1",
        "outputId": "990f90b2-8833-4554-f8ab-ce6d9da22f29"
      },
      "source": [
        "dic1 = {1:10, 2:20}\n",
        "dic2 = {3:30, 4:40}\n",
        "dic3 = {5:50, 6:60}\n",
        "dic4 = {}\n",
        "for x in (dic1, dic2, dic3):\n",
        "    dic4.update(x)\n",
        "print(dic4)"
      ],
      "execution_count": 2,
      "outputs": [
        {
          "output_type": "stream",
          "text": [
            "{1: 10, 2: 20, 3: 30, 4: 40, 5: 50, 6: 60}\n"
          ],
          "name": "stdout"
        }
      ]
    },
    {
      "cell_type": "markdown",
      "metadata": {
        "id": "y8KFbxcFHu7K"
      },
      "source": [
        "##**Jumlah 7 Deret Pertama Fibonacci**"
      ]
    },
    {
      "cell_type": "code",
      "metadata": {
        "colab": {
          "base_uri": "https://localhost:8080/"
        },
        "id": "g1E4L7gNHs9P",
        "outputId": "5a49e39a-8d13-4dda-e5a8-fffc98e86818"
      },
      "source": [
        "# Buat fungsi penjumlahan deret Fibonacci\n",
        "def calculateSum(n):\n",
        "    if n <= 0:\n",
        "        return 0\n",
        "    fibo = [0] * (n + 1)\n",
        "    fibo[1] = 1\n",
        "    # Initialisasi hasil ke dalam variabel sm\n",
        "    sm = fibo[0] + fibo[1]\n",
        "    # Tambahkan suku-suku berikutnya\n",
        "    for i in range(2, n + 1):\n",
        "        fibo[i] = fibo[i - 1] + fibo[i - 2]\n",
        "        sm += fibo[i]\n",
        "    return sm\n",
        "# Evaluasi hasil deret untuk n = 7    \n",
        "print(calculateSum(7))"
      ],
      "execution_count": 1,
      "outputs": [
        {
          "output_type": "stream",
          "text": [
            "33\n"
          ],
          "name": "stdout"
        }
      ]
    }
  ]
}